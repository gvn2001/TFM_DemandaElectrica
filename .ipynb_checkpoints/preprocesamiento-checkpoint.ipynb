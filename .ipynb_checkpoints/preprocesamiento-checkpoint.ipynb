{
 "cells": [
  {
   "cell_type": "code",
   "execution_count": 1,
   "metadata": {},
   "outputs": [],
   "source": [
    "import pandas as pd"
   ]
  },
  {
   "cell_type": "markdown",
   "metadata": {},
   "source": [
    "## Preprocesamiento dataframe clima"
   ]
  },
  {
   "cell_type": "code",
   "execution_count": 62,
   "metadata": {},
   "outputs": [],
   "source": [
    "# Lista para almacenar los DataFrames\n",
    "dfs = []\n",
    "\n",
    "# Rango de años desde 2019 hasta 2024\n",
    "for year in range(2019, 2025):\n",
    "    file_name = f\"datos_climaticos_{year}.csv\"  # Ajusta el formato del nombre de archivo según corresponda\n",
    "    try:\n",
    "        # Leer el archivo CSV\n",
    "        df = pd.read_csv(file_name)\n",
    "        # Añadir una columna para identificar el año\n",
    "        df['Año'] = year\n",
    "        # Agregar el DataFrame a la lista\n",
    "        dfs.append(df)\n",
    "    except FileNotFoundError:\n",
    "        print(f\"Archivo {file_name} no encontrado.\")\n",
    "    \n",
    "# Concatenar todos los DataFrames en uno solo\n",
    "df_clima_raw = pd.concat(dfs, ignore_index=True)"
   ]
  },
  {
   "cell_type": "code",
   "execution_count": 63,
   "metadata": {},
   "outputs": [],
   "source": [
    "df_clima = df_clima_raw.copy()"
   ]
  },
  {
   "cell_type": "code",
   "execution_count": 64,
   "metadata": {},
   "outputs": [
    {
     "data": {
      "text/plain": [
       "fecha       object\n",
       "tmed       float64\n",
       "hrMedia    float64\n",
       "Año          int64\n",
       "dtype: object"
      ]
     },
     "execution_count": 64,
     "metadata": {},
     "output_type": "execute_result"
    }
   ],
   "source": [
    "df_clima.dtypes"
   ]
  },
  {
   "cell_type": "code",
   "execution_count": 65,
   "metadata": {},
   "outputs": [],
   "source": [
    "if 'fecha' in df_clima.columns:\n",
    "    df_clima['fecha'] = pd.to_datetime(df_clima['fecha'], errors='coerce')  # Convertir 'fecha' a datetime"
   ]
  },
  {
   "cell_type": "code",
   "execution_count": 66,
   "metadata": {},
   "outputs": [
    {
     "data": {
      "text/plain": [
       "fecha      datetime64[ns]\n",
       "tmed              float64\n",
       "hrMedia           float64\n",
       "Año                 int64\n",
       "dtype: object"
      ]
     },
     "execution_count": 66,
     "metadata": {},
     "output_type": "execute_result"
    }
   ],
   "source": [
    "df_clima.dtypes"
   ]
  },
  {
   "cell_type": "code",
   "execution_count": 67,
   "metadata": {},
   "outputs": [],
   "source": [
    "df_clima = df_clima.drop(columns=['Año'])"
   ]
  },
  {
   "cell_type": "code",
   "execution_count": 68,
   "metadata": {},
   "outputs": [
    {
     "data": {
      "text/html": [
       "<div>\n",
       "<style scoped>\n",
       "    .dataframe tbody tr th:only-of-type {\n",
       "        vertical-align: middle;\n",
       "    }\n",
       "\n",
       "    .dataframe tbody tr th {\n",
       "        vertical-align: top;\n",
       "    }\n",
       "\n",
       "    .dataframe thead th {\n",
       "        text-align: right;\n",
       "    }\n",
       "</style>\n",
       "<table border=\"1\" class=\"dataframe\">\n",
       "  <thead>\n",
       "    <tr style=\"text-align: right;\">\n",
       "      <th></th>\n",
       "      <th>fecha</th>\n",
       "      <th>tmed</th>\n",
       "      <th>hrMedia</th>\n",
       "    </tr>\n",
       "  </thead>\n",
       "  <tbody>\n",
       "    <tr>\n",
       "      <td>0</td>\n",
       "      <td>2019-01-01</td>\n",
       "      <td>7.546275</td>\n",
       "      <td>64.551332</td>\n",
       "    </tr>\n",
       "    <tr>\n",
       "      <td>1</td>\n",
       "      <td>2019-01-02</td>\n",
       "      <td>6.299200</td>\n",
       "      <td>68.139083</td>\n",
       "    </tr>\n",
       "    <tr>\n",
       "      <td>2</td>\n",
       "      <td>2019-01-03</td>\n",
       "      <td>5.589226</td>\n",
       "      <td>66.484092</td>\n",
       "    </tr>\n",
       "    <tr>\n",
       "      <td>3</td>\n",
       "      <td>2019-01-04</td>\n",
       "      <td>5.572486</td>\n",
       "      <td>64.748375</td>\n",
       "    </tr>\n",
       "    <tr>\n",
       "      <td>4</td>\n",
       "      <td>2019-01-05</td>\n",
       "      <td>6.092966</td>\n",
       "      <td>59.188741</td>\n",
       "    </tr>\n",
       "  </tbody>\n",
       "</table>\n",
       "</div>"
      ],
      "text/plain": [
       "       fecha      tmed    hrMedia\n",
       "0 2019-01-01  7.546275  64.551332\n",
       "1 2019-01-02  6.299200  68.139083\n",
       "2 2019-01-03  5.589226  66.484092\n",
       "3 2019-01-04  5.572486  64.748375\n",
       "4 2019-01-05  6.092966  59.188741"
      ]
     },
     "execution_count": 68,
     "metadata": {},
     "output_type": "execute_result"
    }
   ],
   "source": [
    "df_clima.head()"
   ]
  },
  {
   "cell_type": "markdown",
   "metadata": {},
   "source": [
    "## Preprocesamiento dataframe demanda"
   ]
  },
  {
   "cell_type": "code",
   "execution_count": 92,
   "metadata": {},
   "outputs": [
    {
     "name": "stdout",
     "output_type": "stream",
     "text": [
      "                datetime_utc  Demanda real\n",
      "0  2018-12-31 00:00:00+00:00  23459.000000\n",
      "1  2019-01-01 00:00:00+00:00  23083.583333\n",
      "2  2019-01-02 00:00:00+00:00  29587.326389\n",
      "3  2019-01-03 00:00:00+00:00  31287.312500\n",
      "4  2019-01-04 00:00:00+00:00  31500.986111\n"
     ]
    }
   ],
   "source": [
    "# Leer el archivo CSV\n",
    "df_demanda_raw = pd.read_csv('datos_demanda_media_diaria.csv')\n",
    "\n",
    "# Seleccionar solo las columnas que necesitas\n",
    "df_demanda = df_demanda_raw.copy()\n",
    "\n",
    "df_demanda = df_demanda[['datetime_utc', 'Demanda real']]\n",
    "\n",
    "# Mostrar el DataFrame resultante\n",
    "print(df_seleccionado.head())"
   ]
  },
  {
   "cell_type": "code",
   "execution_count": 93,
   "metadata": {},
   "outputs": [],
   "source": [
    "df_demanda['datetime_utc'] = pd.to_datetime(df_demanda['datetime_utc']).dt.strftime('%Y-%m-%d')\n"
   ]
  },
  {
   "cell_type": "code",
   "execution_count": 94,
   "metadata": {},
   "outputs": [
    {
     "data": {
      "text/plain": [
       "datetime_utc     object\n",
       "Demanda real    float64\n",
       "dtype: object"
      ]
     },
     "execution_count": 94,
     "metadata": {},
     "output_type": "execute_result"
    }
   ],
   "source": [
    "df_demanda.dtypes"
   ]
  },
  {
   "cell_type": "code",
   "execution_count": 95,
   "metadata": {},
   "outputs": [
    {
     "data": {
      "text/html": [
       "<div>\n",
       "<style scoped>\n",
       "    .dataframe tbody tr th:only-of-type {\n",
       "        vertical-align: middle;\n",
       "    }\n",
       "\n",
       "    .dataframe tbody tr th {\n",
       "        vertical-align: top;\n",
       "    }\n",
       "\n",
       "    .dataframe thead th {\n",
       "        text-align: right;\n",
       "    }\n",
       "</style>\n",
       "<table border=\"1\" class=\"dataframe\">\n",
       "  <thead>\n",
       "    <tr style=\"text-align: right;\">\n",
       "      <th></th>\n",
       "      <th>datetime_utc</th>\n",
       "      <th>Demanda real</th>\n",
       "    </tr>\n",
       "  </thead>\n",
       "  <tbody>\n",
       "    <tr>\n",
       "      <td>0</td>\n",
       "      <td>2018-12-31</td>\n",
       "      <td>23459.000000</td>\n",
       "    </tr>\n",
       "    <tr>\n",
       "      <td>1</td>\n",
       "      <td>2019-01-01</td>\n",
       "      <td>23083.583333</td>\n",
       "    </tr>\n",
       "    <tr>\n",
       "      <td>2</td>\n",
       "      <td>2019-01-02</td>\n",
       "      <td>29587.326389</td>\n",
       "    </tr>\n",
       "    <tr>\n",
       "      <td>3</td>\n",
       "      <td>2019-01-03</td>\n",
       "      <td>31287.312500</td>\n",
       "    </tr>\n",
       "    <tr>\n",
       "      <td>4</td>\n",
       "      <td>2019-01-04</td>\n",
       "      <td>31500.986111</td>\n",
       "    </tr>\n",
       "  </tbody>\n",
       "</table>\n",
       "</div>"
      ],
      "text/plain": [
       "  datetime_utc  Demanda real\n",
       "0   2018-12-31  23459.000000\n",
       "1   2019-01-01  23083.583333\n",
       "2   2019-01-02  29587.326389\n",
       "3   2019-01-03  31287.312500\n",
       "4   2019-01-04  31500.986111"
      ]
     },
     "execution_count": 95,
     "metadata": {},
     "output_type": "execute_result"
    }
   ],
   "source": [
    "df_demanda.head()"
   ]
  },
  {
   "cell_type": "code",
   "execution_count": 96,
   "metadata": {},
   "outputs": [],
   "source": [
    "# Renombrar la columna 'datetime_utc' a 'fecha'\n",
    "df_demanda.rename(columns={'datetime_utc': 'fecha'}, inplace=True)\n",
    "\n",
    "# Convertir la columna 'fecha' al tipo datetime64[ns]\n",
    "df_demanda['fecha'] = pd.to_datetime(df_demanda['fecha'])"
   ]
  },
  {
   "cell_type": "code",
   "execution_count": 97,
   "metadata": {},
   "outputs": [
    {
     "data": {
      "text/plain": [
       "fecha           datetime64[ns]\n",
       "Demanda real           float64\n",
       "dtype: object"
      ]
     },
     "execution_count": 97,
     "metadata": {},
     "output_type": "execute_result"
    }
   ],
   "source": [
    "df_demanda.dtypes"
   ]
  },
  {
   "cell_type": "code",
   "execution_count": 98,
   "metadata": {},
   "outputs": [],
   "source": [
    "df_demanda['fecha'] = df_demanda['fecha'] + pd.Timedelta(days=1)"
   ]
  },
  {
   "cell_type": "code",
   "execution_count": 99,
   "metadata": {},
   "outputs": [
    {
     "data": {
      "text/plain": [
       "2083"
      ]
     },
     "execution_count": 99,
     "metadata": {},
     "output_type": "execute_result"
    }
   ],
   "source": [
    "df_demanda.head()\n",
    "df_demanda.to_csv('datos_demanda_modificado.csv', index=False)\n",
    "len(df_clima)"
   ]
  },
  {
   "cell_type": "markdown",
   "metadata": {},
   "source": [
    "## Unificación de ambos dataframe"
   ]
  },
  {
   "cell_type": "code",
   "execution_count": 164,
   "metadata": {},
   "outputs": [],
   "source": [
    "df = pd.merge(df_demanda, df_clima, on='fecha', how='inner')"
   ]
  },
  {
   "cell_type": "code",
   "execution_count": 165,
   "metadata": {},
   "outputs": [],
   "source": [
    "# Ver si falta algún día consecutivo\n",
    "\n",
    "# Ordenar el DataFrame por la columna 'fecha'\n",
    "#df = df.sort_values(by='fecha')\n",
    "\n",
    "# Calcular la diferencia entre fechas consecutivas\n",
    "#df['diferencia_dias'] = df['fecha'].diff().dt.days\n",
    "\n",
    "# Encontrar días donde no hay días consecutivos (diferencia > 1)\n",
    "#días_sin_consecutivos = df[df['diferencia_dias'] > 1]\n",
    "\n",
    "# Mostrar los días donde no hay consecutivos\n",
    "#print(días_sin_consecutivos[['fecha', 'diferencia_dias']])\n",
    "\n",
    "# Si no se encuentran días sin consecutivos\n",
    "#if días_sin_consecutivos.empty:\n",
    "#    print(\"Todos los días están consecutivos.\")\n",
    "#else:\n",
    "#    print(f\"Se encontraron {len(días_sin_consecutivos)} periodos con días no consecutivos.\")"
   ]
  },
  {
   "cell_type": "markdown",
   "metadata": {},
   "source": [
    "## Preprocesamiento dataframe unificado"
   ]
  },
  {
   "cell_type": "code",
   "execution_count": 166,
   "metadata": {},
   "outputs": [],
   "source": [
    "# Filtramos por años (todos menos el 2024 ya que no está completo)\n",
    "df = df[df['fecha'].dt.year != 2024]"
   ]
  },
  {
   "cell_type": "code",
   "execution_count": 167,
   "metadata": {},
   "outputs": [],
   "source": [
    "# Redondear las columnas a una decimal\n",
    "df['Demanda real'] = df['Demanda real'].round(2)\n",
    "df['tmed'] = df['tmed'].round(2)\n",
    "df['hrMedia'] = df['hrMedia'].round(2)"
   ]
  },
  {
   "cell_type": "code",
   "execution_count": 168,
   "metadata": {},
   "outputs": [
    {
     "data": {
      "text/html": [
       "<div>\n",
       "<style scoped>\n",
       "    .dataframe tbody tr th:only-of-type {\n",
       "        vertical-align: middle;\n",
       "    }\n",
       "\n",
       "    .dataframe tbody tr th {\n",
       "        vertical-align: top;\n",
       "    }\n",
       "\n",
       "    .dataframe thead th {\n",
       "        text-align: right;\n",
       "    }\n",
       "</style>\n",
       "<table border=\"1\" class=\"dataframe\">\n",
       "  <thead>\n",
       "    <tr style=\"text-align: right;\">\n",
       "      <th></th>\n",
       "      <th>fecha</th>\n",
       "      <th>Demanda real</th>\n",
       "      <th>tmed</th>\n",
       "      <th>hrMedia</th>\n",
       "    </tr>\n",
       "  </thead>\n",
       "  <tbody>\n",
       "    <tr>\n",
       "      <td>0</td>\n",
       "      <td>2019-01-01</td>\n",
       "      <td>23459.00</td>\n",
       "      <td>7.55</td>\n",
       "      <td>64.55</td>\n",
       "    </tr>\n",
       "    <tr>\n",
       "      <td>1</td>\n",
       "      <td>2019-01-02</td>\n",
       "      <td>23083.58</td>\n",
       "      <td>6.30</td>\n",
       "      <td>68.14</td>\n",
       "    </tr>\n",
       "    <tr>\n",
       "      <td>2</td>\n",
       "      <td>2019-01-03</td>\n",
       "      <td>29587.33</td>\n",
       "      <td>5.59</td>\n",
       "      <td>66.48</td>\n",
       "    </tr>\n",
       "    <tr>\n",
       "      <td>3</td>\n",
       "      <td>2019-01-04</td>\n",
       "      <td>31287.31</td>\n",
       "      <td>5.57</td>\n",
       "      <td>64.75</td>\n",
       "    </tr>\n",
       "    <tr>\n",
       "      <td>4</td>\n",
       "      <td>2019-01-05</td>\n",
       "      <td>31500.99</td>\n",
       "      <td>6.09</td>\n",
       "      <td>59.19</td>\n",
       "    </tr>\n",
       "    <tr>\n",
       "      <td>...</td>\n",
       "      <td>...</td>\n",
       "      <td>...</td>\n",
       "      <td>...</td>\n",
       "      <td>...</td>\n",
       "    </tr>\n",
       "    <tr>\n",
       "      <td>1821</td>\n",
       "      <td>2023-12-27</td>\n",
       "      <td>25735.32</td>\n",
       "      <td>6.42</td>\n",
       "      <td>69.44</td>\n",
       "    </tr>\n",
       "    <tr>\n",
       "      <td>1822</td>\n",
       "      <td>2023-12-28</td>\n",
       "      <td>27314.30</td>\n",
       "      <td>7.18</td>\n",
       "      <td>74.20</td>\n",
       "    </tr>\n",
       "    <tr>\n",
       "      <td>1823</td>\n",
       "      <td>2023-12-29</td>\n",
       "      <td>27768.56</td>\n",
       "      <td>8.25</td>\n",
       "      <td>75.97</td>\n",
       "    </tr>\n",
       "    <tr>\n",
       "      <td>1824</td>\n",
       "      <td>2023-12-30</td>\n",
       "      <td>27334.70</td>\n",
       "      <td>8.63</td>\n",
       "      <td>75.08</td>\n",
       "    </tr>\n",
       "    <tr>\n",
       "      <td>1825</td>\n",
       "      <td>2023-12-31</td>\n",
       "      <td>24497.01</td>\n",
       "      <td>8.04</td>\n",
       "      <td>75.51</td>\n",
       "    </tr>\n",
       "  </tbody>\n",
       "</table>\n",
       "<p>1826 rows × 4 columns</p>\n",
       "</div>"
      ],
      "text/plain": [
       "          fecha  Demanda real  tmed  hrMedia\n",
       "0    2019-01-01      23459.00  7.55    64.55\n",
       "1    2019-01-02      23083.58  6.30    68.14\n",
       "2    2019-01-03      29587.33  5.59    66.48\n",
       "3    2019-01-04      31287.31  5.57    64.75\n",
       "4    2019-01-05      31500.99  6.09    59.19\n",
       "...         ...           ...   ...      ...\n",
       "1821 2023-12-27      25735.32  6.42    69.44\n",
       "1822 2023-12-28      27314.30  7.18    74.20\n",
       "1823 2023-12-29      27768.56  8.25    75.97\n",
       "1824 2023-12-30      27334.70  8.63    75.08\n",
       "1825 2023-12-31      24497.01  8.04    75.51\n",
       "\n",
       "[1826 rows x 4 columns]"
      ]
     },
     "execution_count": 168,
     "metadata": {},
     "output_type": "execute_result"
    }
   ],
   "source": [
    "df"
   ]
  },
  {
   "cell_type": "code",
   "execution_count": 169,
   "metadata": {},
   "outputs": [],
   "source": [
    "# Añadir columna para el día de la semana en formato numérico\n",
    "df['diaSem'] = df['fecha'].dt.dayofweek  # 0=lunes, 1=martes, ..., 6=domingo COMPROBAR ALGO RARO\n",
    "\n",
    "# Añadir columna para el trimestre en formato numérico de 0 a 3\n",
    "df['trim'] = df['fecha'].dt.to_period('Q').dt.quarter - 1  # 0=Q1, 1=Q2, 2=Q3, 3=Q4 (invierno primero)"
   ]
  },
  {
   "cell_type": "code",
   "execution_count": 170,
   "metadata": {},
   "outputs": [
    {
     "data": {
      "text/html": [
       "<div>\n",
       "<style scoped>\n",
       "    .dataframe tbody tr th:only-of-type {\n",
       "        vertical-align: middle;\n",
       "    }\n",
       "\n",
       "    .dataframe tbody tr th {\n",
       "        vertical-align: top;\n",
       "    }\n",
       "\n",
       "    .dataframe thead th {\n",
       "        text-align: right;\n",
       "    }\n",
       "</style>\n",
       "<table border=\"1\" class=\"dataframe\">\n",
       "  <thead>\n",
       "    <tr style=\"text-align: right;\">\n",
       "      <th></th>\n",
       "      <th>fecha</th>\n",
       "      <th>Demanda real</th>\n",
       "      <th>tmed</th>\n",
       "      <th>hrMedia</th>\n",
       "      <th>diaSem</th>\n",
       "      <th>trim</th>\n",
       "    </tr>\n",
       "  </thead>\n",
       "  <tbody>\n",
       "    <tr>\n",
       "      <td>0</td>\n",
       "      <td>2019-01-01</td>\n",
       "      <td>23459.00</td>\n",
       "      <td>7.55</td>\n",
       "      <td>64.55</td>\n",
       "      <td>1</td>\n",
       "      <td>0</td>\n",
       "    </tr>\n",
       "    <tr>\n",
       "      <td>1</td>\n",
       "      <td>2019-01-02</td>\n",
       "      <td>23083.58</td>\n",
       "      <td>6.30</td>\n",
       "      <td>68.14</td>\n",
       "      <td>2</td>\n",
       "      <td>0</td>\n",
       "    </tr>\n",
       "    <tr>\n",
       "      <td>2</td>\n",
       "      <td>2019-01-03</td>\n",
       "      <td>29587.33</td>\n",
       "      <td>5.59</td>\n",
       "      <td>66.48</td>\n",
       "      <td>3</td>\n",
       "      <td>0</td>\n",
       "    </tr>\n",
       "    <tr>\n",
       "      <td>3</td>\n",
       "      <td>2019-01-04</td>\n",
       "      <td>31287.31</td>\n",
       "      <td>5.57</td>\n",
       "      <td>64.75</td>\n",
       "      <td>4</td>\n",
       "      <td>0</td>\n",
       "    </tr>\n",
       "    <tr>\n",
       "      <td>4</td>\n",
       "      <td>2019-01-05</td>\n",
       "      <td>31500.99</td>\n",
       "      <td>6.09</td>\n",
       "      <td>59.19</td>\n",
       "      <td>5</td>\n",
       "      <td>0</td>\n",
       "    </tr>\n",
       "    <tr>\n",
       "      <td>...</td>\n",
       "      <td>...</td>\n",
       "      <td>...</td>\n",
       "      <td>...</td>\n",
       "      <td>...</td>\n",
       "      <td>...</td>\n",
       "      <td>...</td>\n",
       "    </tr>\n",
       "    <tr>\n",
       "      <td>1821</td>\n",
       "      <td>2023-12-27</td>\n",
       "      <td>25735.32</td>\n",
       "      <td>6.42</td>\n",
       "      <td>69.44</td>\n",
       "      <td>2</td>\n",
       "      <td>3</td>\n",
       "    </tr>\n",
       "    <tr>\n",
       "      <td>1822</td>\n",
       "      <td>2023-12-28</td>\n",
       "      <td>27314.30</td>\n",
       "      <td>7.18</td>\n",
       "      <td>74.20</td>\n",
       "      <td>3</td>\n",
       "      <td>3</td>\n",
       "    </tr>\n",
       "    <tr>\n",
       "      <td>1823</td>\n",
       "      <td>2023-12-29</td>\n",
       "      <td>27768.56</td>\n",
       "      <td>8.25</td>\n",
       "      <td>75.97</td>\n",
       "      <td>4</td>\n",
       "      <td>3</td>\n",
       "    </tr>\n",
       "    <tr>\n",
       "      <td>1824</td>\n",
       "      <td>2023-12-30</td>\n",
       "      <td>27334.70</td>\n",
       "      <td>8.63</td>\n",
       "      <td>75.08</td>\n",
       "      <td>5</td>\n",
       "      <td>3</td>\n",
       "    </tr>\n",
       "    <tr>\n",
       "      <td>1825</td>\n",
       "      <td>2023-12-31</td>\n",
       "      <td>24497.01</td>\n",
       "      <td>8.04</td>\n",
       "      <td>75.51</td>\n",
       "      <td>6</td>\n",
       "      <td>3</td>\n",
       "    </tr>\n",
       "  </tbody>\n",
       "</table>\n",
       "<p>1826 rows × 6 columns</p>\n",
       "</div>"
      ],
      "text/plain": [
       "          fecha  Demanda real  tmed  hrMedia  diaSem  trim\n",
       "0    2019-01-01      23459.00  7.55    64.55       1     0\n",
       "1    2019-01-02      23083.58  6.30    68.14       2     0\n",
       "2    2019-01-03      29587.33  5.59    66.48       3     0\n",
       "3    2019-01-04      31287.31  5.57    64.75       4     0\n",
       "4    2019-01-05      31500.99  6.09    59.19       5     0\n",
       "...         ...           ...   ...      ...     ...   ...\n",
       "1821 2023-12-27      25735.32  6.42    69.44       2     3\n",
       "1822 2023-12-28      27314.30  7.18    74.20       3     3\n",
       "1823 2023-12-29      27768.56  8.25    75.97       4     3\n",
       "1824 2023-12-30      27334.70  8.63    75.08       5     3\n",
       "1825 2023-12-31      24497.01  8.04    75.51       6     3\n",
       "\n",
       "[1826 rows x 6 columns]"
      ]
     },
     "execution_count": 170,
     "metadata": {},
     "output_type": "execute_result"
    }
   ],
   "source": [
    "df"
   ]
  },
  {
   "cell_type": "code",
   "execution_count": 171,
   "metadata": {},
   "outputs": [
    {
     "data": {
      "text/plain": [
       "fecha           0\n",
       "Demanda real    0\n",
       "tmed            0\n",
       "hrMedia         0\n",
       "diaSem          0\n",
       "trim            0\n",
       "dtype: int64"
      ]
     },
     "execution_count": 171,
     "metadata": {},
     "output_type": "execute_result"
    }
   ],
   "source": [
    "# Contar la cantidad de valores nulos por columna\n",
    "df.isnull().sum()"
   ]
  },
  {
   "cell_type": "code",
   "execution_count": 175,
   "metadata": {},
   "outputs": [
    {
     "data": {
      "text/plain": [
       "0"
      ]
     },
     "execution_count": 175,
     "metadata": {},
     "output_type": "execute_result"
    }
   ],
   "source": [
    "# Contar la cantidad de filas duplicadas\n",
    "df.duplicated().sum()"
   ]
  },
  {
   "cell_type": "markdown",
   "metadata": {},
   "source": [
    "Mencionar que no hace falta hacer codificación y tratamiento de valores atípicos. Justificarlo"
   ]
  },
  {
   "cell_type": "code",
   "execution_count": 176,
   "metadata": {},
   "outputs": [],
   "source": [
    "df.to_csv('datos_preprocesados.csv', index=False)"
   ]
  },
  {
   "cell_type": "code",
   "execution_count": null,
   "metadata": {},
   "outputs": [],
   "source": []
  }
 ],
 "metadata": {
  "kernelspec": {
   "display_name": "Python 3",
   "language": "python",
   "name": "python3"
  },
  "language_info": {
   "codemirror_mode": {
    "name": "ipython",
    "version": 3
   },
   "file_extension": ".py",
   "mimetype": "text/x-python",
   "name": "python",
   "nbconvert_exporter": "python",
   "pygments_lexer": "ipython3",
   "version": "3.7.4"
  }
 },
 "nbformat": 4,
 "nbformat_minor": 2
}
