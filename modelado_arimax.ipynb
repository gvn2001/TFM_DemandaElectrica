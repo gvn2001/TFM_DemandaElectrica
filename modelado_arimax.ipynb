{
 "cells": [
  {
   "cell_type": "code",
   "execution_count": 1,
   "metadata": {},
   "outputs": [],
   "source": [
    "import numpy as np\n",
    "import pandas as pd\n",
    "from pmdarima import ARIMA\n",
    "from statsmodels.tsa.statespace.sarimax import SARIMAX\n",
    "from statsmodels.tsa.stattools import adfuller\n",
    "from skforecast.ForecasterSarimax import ForecasterSarimax\n",
    "from skforecast.model_selection import backtesting_forecaster\n",
    "from skforecast.model_selection_sarimax import backtesting_sarimax\n",
    "import matplotlib.pyplot as plt\n",
    "import warnings\n",
    "warnings.filterwarnings('once')"
   ]
  },
  {
   "cell_type": "markdown",
   "metadata": {},
   "source": [
    "# Carga de datos"
   ]
  },
  {
   "cell_type": "code",
   "execution_count": 2,
   "metadata": {},
   "outputs": [],
   "source": [
    "df_raw = pd.read_csv(\"datos_preprocesados.csv\", parse_dates=['fecha'], index_col='fecha').asfreq('D')\n",
    "df = df_raw.copy()"
   ]
  },
  {
   "cell_type": "markdown",
   "metadata": {},
   "source": [
    "# Estacionareidad"
   ]
  },
  {
   "cell_type": "code",
   "execution_count": 3,
   "metadata": {},
   "outputs": [
    {
     "name": "stdout",
     "output_type": "stream",
     "text": [
      "Estadístico ADF: -5.044953538402203\n",
      "Valor p: 1.8068747033700663e-05\n",
      "Número de lags utilizados: 26\n",
      "Número de observaciones: 2061\n",
      "Valores críticos:\n",
      "   1%: -3.434\n",
      "   5%: -2.863\n",
      "   10%: -2.568\n"
     ]
    }
   ],
   "source": [
    "# Realizar la prueba ADF\n",
    "result = adfuller(df['demanda'].dropna(), autolag='AIC')  # Reemplaza 'demanda' con el nombre de tu columna\n",
    "\n",
    "# Mostrar los resultados\n",
    "print('Estadístico ADF:', result[0])\n",
    "print('Valor p:', result[1])\n",
    "print('Número de lags utilizados:', result[2])\n",
    "print('Número de observaciones:', result[3])\n",
    "print('Valores críticos:')\n",
    "for key, value in result[4].items():\n",
    "    print(f'   {key}: {value:.3f}')"
   ]
  },
  {
   "cell_type": "markdown",
   "metadata": {},
   "source": [
    "# División del conjunto de datos"
   ]
  },
  {
   "cell_type": "code",
   "execution_count": 4,
   "metadata": {},
   "outputs": [
    {
     "name": "stdout",
     "output_type": "stream",
     "text": [
      "Dates train      : 2019-01-01 00:00:00 --- 2021-12-31 00:00:00  (n=1096)\n",
      "Dates validacion : 2021-12-31 00:00:00 --- 2022-12-31 00:00:00  (n=366)\n",
      "Dates test       : 2022-12-31 00:00:00 --- 2024-09-18 00:00:00  (n=628)\n"
     ]
    }
   ],
   "source": [
    "# Split train-validation-test\n",
    "# ==============================================================================\n",
    "end_train = '2021-12-31'\n",
    "end_validation = '2022-12-31'\n",
    "data_train = df.loc[: end_train, :]\n",
    "data_val   = df.loc[end_train:end_validation, :]\n",
    "data_test  = df.loc[end_validation:, :]\n",
    "\n",
    "print(f\"Dates train      : {data_train.index.min()} --- {data_train.index.max()}  (n={len(data_train)})\")\n",
    "print(f\"Dates validacion : {data_val.index.min()} --- {data_val.index.max()}  (n={len(data_val)})\")\n",
    "print(f\"Dates test       : {data_test.index.min()} --- {data_test.index.max()}  (n={len(data_test)})\")"
   ]
  },
  {
   "cell_type": "markdown",
   "metadata": {},
   "source": [
    "# Modelo ARIMAX"
   ]
  },
  {
   "cell_type": "code",
   "execution_count": 5,
   "metadata": {},
   "outputs": [],
   "source": [
    "def arimax(exog_features, p, d, q, maxiter):\n",
    "    forecaster = ForecasterSarimax( regressor=ARIMA(order=(p, d, q), seasonal_order=(0, 0, 0, 0), maxiter=maxiter))\n",
    "    \n",
    "    metric, predictions = backtesting_sarimax(\n",
    "        forecaster         = forecaster,\n",
    "        y                  = df['demanda'],\n",
    "        exog               = df[exog_features],\n",
    "        steps              = 1,\n",
    "        metric             = 'mean_absolute_error',\n",
    "        initial_train_size = len(df[:end_validation]),\n",
    "        refit              = False,\n",
    "        n_jobs             = 'auto',\n",
    "        verbose            = False,\n",
    "        show_progress      = True\n",
    ")\n",
    "    return metric\n",
    "             "
   ]
  },
  {
   "cell_type": "markdown",
   "metadata": {},
   "source": [
    "# Resultados"
   ]
  },
  {
   "cell_type": "code",
   "execution_count": 6,
   "metadata": {},
   "outputs": [
    {
     "name": "stderr",
     "output_type": "stream",
     "text": [
      "C:\\Users\\grego\\AppData\\Local\\Continuum\\anaconda3\\lib\\site-packages\\statsmodels\\tsa\\statespace\\sarimax.py:966: UserWarning: Non-stationary starting autoregressive parameters found. Using zeros as starting parameters.\n",
      "  warn('Non-stationary starting autoregressive parameters'\n",
      "C:\\Users\\grego\\AppData\\Local\\Continuum\\anaconda3\\lib\\site-packages\\statsmodels\\tsa\\statespace\\sarimax.py:978: UserWarning: Non-invertible starting MA parameters found. Using zeros as starting parameters.\n",
      "  warn('Non-invertible starting MA parameters found.'\n",
      "C:\\Users\\grego\\AppData\\Local\\Continuum\\anaconda3\\lib\\site-packages\\statsmodels\\base\\model.py:606: ConvergenceWarning: Maximum Likelihood optimization failed to converge. Check mle_retvals\n",
      "  ConvergenceWarning)\n"
     ]
    },
    {
     "data": {
      "application/vnd.jupyter.widget-view+json": {
       "model_id": "e3c6de74a55c4b0c813b3f17c5f1b8f2",
       "version_major": 2,
       "version_minor": 0
      },
      "text/plain": [
       "  0%|          | 0/627 [00:00<?, ?it/s]"
      ]
     },
     "metadata": {},
     "output_type": "display_data"
    },
    {
     "name": "stdout",
     "output_type": "stream",
     "text": [
      "Para p, d, q = 1, 1, 1 la métrica es 1140.5867\n",
      "Los resultados se han guardado en 'resultados_arimax.csv'.\n"
     ]
    }
   ],
   "source": [
    "exog_features = ['tmed', 'hrmedia', 'trim', 'diasem', 'festivo']\n",
    "maxiter = 10\n",
    "\n",
    "# Definir los rangos para p, d y q\n",
    "range_values = range(1,2)  # Esto generará 0, 1, 2\n",
    "\n",
    "# Crear una lista para almacenar los resultados\n",
    "results = []\n",
    "\n",
    "# Iterar sobre los valores de p, d, q\n",
    "for p in range_values:\n",
    "    for d in range_values:\n",
    "        for q in range_values:\n",
    "            # Llamar a la función arimax con los parámetros actuales\n",
    "            metric = arimax(exog_features, p, d, q, maxiter)\n",
    "            # Imprimir el resultado\n",
    "            print(f\"Para p, d, q = {p}, {d}, {q} la métrica es {metric:.4f}\")\n",
    "            # Almacenar los resultados\n",
    "            results.append((p, d, q, metric))\n",
    "\n",
    "# Convertir la lista de resultados a un DataFrame\n",
    "results_df = pd.DataFrame(results, columns=['p', 'd', 'q', 'metric'])\n",
    "\n",
    "# Guardar los resultados en un archivo CSV\n",
    "results_df.to_csv('resultados_arimax_3.csv', index=False)\n",
    "\n",
    "print(\"Los resultados se han guardado en 'resultados_arimax.csv'.\")\n"
   ]
  },
  {
   "cell_type": "markdown",
   "metadata": {},
   "source": [
    "# Representación gráfica"
   ]
  },
  {
   "cell_type": "code",
   "execution_count": null,
   "metadata": {},
   "outputs": [],
   "source": [
    "# Plot predictions vs real value\n",
    "# ======================================================================================\n",
    "plt.figure(figsize=(10, 5))  # Define el tamaño de la figura\n",
    "\n",
    "# Graficar los valores reales\n",
    "plt.plot(data_test.index, data_test['demanda'], label=\"Real Value\", color='blue', linestyle='-')\n",
    "\n",
    "# Graficar las predicciones\n",
    "plt.plot(predictions.index, predictions['pred'], label=\"Predictions\", color='orange', linestyle='--')\n",
    "\n",
    "# Configurar el título y las etiquetas\n",
    "plt.title(\"Real Value vs Predicted in Test Data\")\n",
    "plt.xlabel(\"Date Time\")\n",
    "plt.ylabel(\"Users\")\n",
    "\n",
    "# Añadir leyenda\n",
    "plt.legend(loc='upper left')\n",
    "\n",
    "# Mostrar el gráfico\n",
    "plt.grid()  # Añadir cuadrícula para mejor visualización\n",
    "plt.tight_layout()  # Ajustar el layout\n",
    "plt.show()\n"
   ]
  }
 ],
 "metadata": {
  "kernelspec": {
   "display_name": "Python 3",
   "language": "python",
   "name": "python3"
  },
  "language_info": {
   "codemirror_mode": {
    "name": "ipython",
    "version": 3
   },
   "file_extension": ".py",
   "mimetype": "text/x-python",
   "name": "python",
   "nbconvert_exporter": "python",
   "pygments_lexer": "ipython3",
   "version": "3.7.4"
  }
 },
 "nbformat": 4,
 "nbformat_minor": 2
}
